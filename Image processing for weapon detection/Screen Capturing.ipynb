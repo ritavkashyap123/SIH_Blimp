{
 "cells": [
  {
   "cell_type": "code",
   "execution_count": 6,
   "id": "f7afc129",
   "metadata": {
    "scrolled": false
   },
   "outputs": [
    {
     "name": "stdout",
     "output_type": "stream",
     "text": [
      "Requirement already satisfied: mss in c:\\users\\ritav\\anaconda3\\lib\\site-packages (6.1.0)\n",
      "Note: you may need to restart the kernel to use updated packages.\n"
     ]
    },
    {
     "name": "stderr",
     "output_type": "stream",
     "text": [
      "WARNING: Ignoring invalid distribution -illow (c:\\users\\ritav\\anaconda3\\lib\\site-packages)\n",
      "WARNING: Ignoring invalid distribution -illow (c:\\users\\ritav\\anaconda3\\lib\\site-packages)\n",
      "WARNING: Ignoring invalid distribution -illow (c:\\users\\ritav\\anaconda3\\lib\\site-packages)\n",
      "WARNING: Ignoring invalid distribution -illow (c:\\users\\ritav\\anaconda3\\lib\\site-packages)\n"
     ]
    }
   ],
   "source": [
    "pip install mss"
   ]
  },
  {
   "cell_type": "code",
   "execution_count": 7,
   "id": "3587b970",
   "metadata": {
    "scrolled": true
   },
   "outputs": [
    {
     "name": "stdout",
     "output_type": "stream",
     "text": [
      "Note: you may need to restart the kernel to use updated packages.\n"
     ]
    },
    {
     "name": "stderr",
     "output_type": "stream",
     "text": [
      "WARNING: Ignoring invalid distribution -illow (c:\\users\\ritav\\anaconda3\\lib\\site-packages)\n",
      "WARNING: Ignoring invalid distribution -illow (c:\\users\\ritav\\anaconda3\\lib\\site-packages)\n",
      "WARNING: Retrying (Retry(total=4, connect=None, read=None, redirect=None, status=None)) after connection broken by 'NewConnectionError('<pip._vendor.urllib3.connection.HTTPSConnection object at 0x0000022B49E1A5B0>: Failed to establish a new connection: [Errno 11001] getaddrinfo failed')': /simple/time/\n",
      "WARNING: Retrying (Retry(total=3, connect=None, read=None, redirect=None, status=None)) after connection broken by 'NewConnectionError('<pip._vendor.urllib3.connection.HTTPSConnection object at 0x0000022B49E1A880>: Failed to establish a new connection: [Errno 11001] getaddrinfo failed')': /simple/time/\n",
      "WARNING: Retrying (Retry(total=2, connect=None, read=None, redirect=None, status=None)) after connection broken by 'NewConnectionError('<pip._vendor.urllib3.connection.HTTPSConnection object at 0x0000022B49E1AA30>: Failed to establish a new connection: [Errno 11001] getaddrinfo failed')': /simple/time/\n",
      "WARNING: Retrying (Retry(total=1, connect=None, read=None, redirect=None, status=None)) after connection broken by 'NewConnectionError('<pip._vendor.urllib3.connection.HTTPSConnection object at 0x0000022B49E1ABE0>: Failed to establish a new connection: [Errno 11001] getaddrinfo failed')': /simple/time/\n",
      "WARNING: Retrying (Retry(total=0, connect=None, read=None, redirect=None, status=None)) after connection broken by 'NewConnectionError('<pip._vendor.urllib3.connection.HTTPSConnection object at 0x0000022B49E1AD90>: Failed to establish a new connection: [Errno 11001] getaddrinfo failed')': /simple/time/\n",
      "ERROR: Could not find a version that satisfies the requirement time (from versions: none)\n",
      "ERROR: No matching distribution found for time\n",
      "WARNING: Ignoring invalid distribution -illow (c:\\users\\ritav\\anaconda3\\lib\\site-packages)\n"
     ]
    }
   ],
   "source": [
    "pip install time"
   ]
  },
  {
   "cell_type": "code",
   "execution_count": 4,
   "id": "aedb4459",
   "metadata": {},
   "outputs": [],
   "source": [
    "import numpy as np\n",
    "import cv2\n",
    "import time\n",
    "import mss"
   ]
  },
  {
   "cell_type": "code",
   "execution_count": 5,
   "id": "1974726a",
   "metadata": {},
   "outputs": [],
   "source": [
    "frame_width = 1280\n",
    "frame_height = 720\n",
    "frame_rate = 20.0\n",
    "PATH_TO_MIDDLE = \"output.avi\"\n",
    "fourcc = cv2.VideoWriter_fourcc(*'XVID')\n",
    "out = cv2.VideoWriter(PATH_TO_MIDDLE, fourcc, frame_rate, \n",
    "                      (frame_width, frame_height))\n",
    "\n",
    "with mss.mss() as sct:\n",
    "    # Part of the screen to capture\n",
    "    monitor = {\"top\": 120, \"left\": 280, \"width\": 1368, \"height\": 770}\n",
    "\n",
    "    while \"Screen capturing\":\n",
    "        last_time = time.time()\n",
    "\n",
    "        # Get raw pixels from the screen, save it to a Numpy array\n",
    "        img = np.array(sct.grab(monitor))\n",
    "        img = cv2.resize(img, (1280, 720))\n",
    "        frame = img\n",
    "\n",
    "        cv2.putText(frame, \"FPS: %f\" % (1.0 / (time.time() - last_time)),\n",
    "                    (10, 10),  cv2.FONT_HERSHEY_SIMPLEX, 0.5, (0, 255, 0), 2)\n",
    "        out.write(frame)\n",
    "        cv2.imshow('frame', frame)\n",
    "\n",
    "        # Press \"q\" to quit\n",
    "        if cv2.waitKey(25) & 0xFF == ord(\"q\"):\n",
    "            break\n",
    "\n",
    "\n",
    "# Clean up\n",
    "out.release()\n",
    "cv2.destroyAllWindows()"
   ]
  },
  {
   "cell_type": "code",
   "execution_count": null,
   "id": "51202c4d",
   "metadata": {},
   "outputs": [],
   "source": []
  }
 ],
 "metadata": {
  "kernelspec": {
   "display_name": "Python 3 (ipykernel)",
   "language": "python",
   "name": "python3"
  },
  "language_info": {
   "codemirror_mode": {
    "name": "ipython",
    "version": 3
   },
   "file_extension": ".py",
   "mimetype": "text/x-python",
   "name": "python",
   "nbconvert_exporter": "python",
   "pygments_lexer": "ipython3",
   "version": "3.9.7"
  }
 },
 "nbformat": 4,
 "nbformat_minor": 5
}
